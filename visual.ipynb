{
 "cells": [
  {
   "cell_type": "code",
   "execution_count": 1,
   "metadata": {},
   "outputs": [
    {
     "name": "stdout",
     "output_type": "stream",
     "text": [
      "Collecting wandb\n",
      "  Downloading wandb-0.19.8-py3-none-win_amd64.whl.metadata (10 kB)\n",
      "Collecting click!=8.0.0,>=7.1 (from wandb)\n",
      "  Downloading click-8.1.8-py3-none-any.whl.metadata (2.3 kB)\n",
      "Collecting docker-pycreds>=0.4.0 (from wandb)\n",
      "  Downloading docker_pycreds-0.4.0-py2.py3-none-any.whl.metadata (1.8 kB)\n",
      "Collecting gitpython!=3.1.29,>=1.0.0 (from wandb)\n",
      "  Downloading GitPython-3.1.44-py3-none-any.whl.metadata (13 kB)\n",
      "Requirement already satisfied: platformdirs in c:\\users\\fpt shop\\miniconda3\\envs\\ml_dmcourse\\lib\\site-packages (from wandb) (4.3.6)\n",
      "Requirement already satisfied: protobuf!=4.21.0,!=5.28.0,<6,>=3.19.0 in c:\\users\\fpt shop\\miniconda3\\envs\\ml_dmcourse\\lib\\site-packages (from wandb) (3.20.2)\n",
      "Requirement already satisfied: psutil>=5.0.0 in c:\\users\\fpt shop\\appdata\\roaming\\python\\python312\\site-packages (from wandb) (6.0.0)\n",
      "Requirement already satisfied: pydantic<3,>=2.6 in c:\\users\\fpt shop\\appdata\\roaming\\python\\python312\\site-packages (from wandb) (2.10.6)\n",
      "Requirement already satisfied: pyyaml in c:\\users\\fpt shop\\miniconda3\\envs\\ml_dmcourse\\lib\\site-packages (from wandb) (6.0.2)\n",
      "Requirement already satisfied: requests<3,>=2.0.0 in c:\\users\\fpt shop\\miniconda3\\envs\\ml_dmcourse\\lib\\site-packages (from wandb) (2.32.3)\n",
      "Collecting sentry-sdk>=2.0.0 (from wandb)\n",
      "  Downloading sentry_sdk-2.24.1-py2.py3-none-any.whl.metadata (10 kB)\n",
      "Collecting setproctitle (from wandb)\n",
      "  Downloading setproctitle-1.3.5-cp312-cp312-win_amd64.whl.metadata (10 kB)\n",
      "Requirement already satisfied: setuptools in c:\\users\\fpt shop\\miniconda3\\envs\\ml_dmcourse\\lib\\site-packages (from wandb) (75.1.0)\n",
      "Requirement already satisfied: colorama in c:\\users\\fpt shop\\miniconda3\\envs\\ml_dmcourse\\lib\\site-packages (from click!=8.0.0,>=7.1->wandb) (0.4.6)\n",
      "Requirement already satisfied: six>=1.4.0 in c:\\users\\fpt shop\\miniconda3\\envs\\ml_dmcourse\\lib\\site-packages (from docker-pycreds>=0.4.0->wandb) (1.16.0)\n",
      "Collecting gitdb<5,>=4.0.1 (from gitpython!=3.1.29,>=1.0.0->wandb)\n",
      "  Downloading gitdb-4.0.12-py3-none-any.whl.metadata (1.2 kB)\n",
      "Requirement already satisfied: annotated-types>=0.6.0 in c:\\users\\fpt shop\\appdata\\roaming\\python\\python312\\site-packages (from pydantic<3,>=2.6->wandb) (0.7.0)\n",
      "Requirement already satisfied: pydantic-core==2.27.2 in c:\\users\\fpt shop\\miniconda3\\envs\\ml_dmcourse\\lib\\site-packages (from pydantic<3,>=2.6->wandb) (2.27.2)\n",
      "Requirement already satisfied: typing-extensions>=4.12.2 in c:\\users\\fpt shop\\miniconda3\\envs\\ml_dmcourse\\lib\\site-packages (from pydantic<3,>=2.6->wandb) (4.12.2)\n",
      "Requirement already satisfied: charset-normalizer<4,>=2 in c:\\users\\fpt shop\\miniconda3\\envs\\ml_dmcourse\\lib\\site-packages (from requests<3,>=2.0.0->wandb) (3.3.2)\n",
      "Requirement already satisfied: idna<4,>=2.5 in c:\\users\\fpt shop\\miniconda3\\envs\\ml_dmcourse\\lib\\site-packages (from requests<3,>=2.0.0->wandb) (3.7)\n",
      "Requirement already satisfied: urllib3<3,>=1.21.1 in c:\\users\\fpt shop\\miniconda3\\envs\\ml_dmcourse\\lib\\site-packages (from requests<3,>=2.0.0->wandb) (2.2.3)\n",
      "Requirement already satisfied: certifi>=2017.4.17 in c:\\users\\fpt shop\\miniconda3\\envs\\ml_dmcourse\\lib\\site-packages (from requests<3,>=2.0.0->wandb) (2024.8.30)\n",
      "Collecting smmap<6,>=3.0.1 (from gitdb<5,>=4.0.1->gitpython!=3.1.29,>=1.0.0->wandb)\n",
      "  Downloading smmap-5.0.2-py3-none-any.whl.metadata (4.3 kB)\n",
      "Downloading wandb-0.19.8-py3-none-win_amd64.whl (20.2 MB)\n",
      "   ---------------------------------------- 0.0/20.2 MB ? eta -:--:--\n",
      "   - -------------------------------------- 0.5/20.2 MB 3.4 MB/s eta 0:00:06\n",
      "   --- ------------------------------------ 1.6/20.2 MB 4.7 MB/s eta 0:00:04\n",
      "   ----- ---------------------------------- 2.9/20.2 MB 5.1 MB/s eta 0:00:04\n",
      "   ------- -------------------------------- 3.7/20.2 MB 4.6 MB/s eta 0:00:04\n",
      "   --------- ------------------------------ 5.0/20.2 MB 4.7 MB/s eta 0:00:04\n",
      "   ----------- ---------------------------- 6.0/20.2 MB 4.6 MB/s eta 0:00:04\n",
      "   ------------- -------------------------- 6.8/20.2 MB 4.5 MB/s eta 0:00:03\n",
      "   ---------------- ----------------------- 8.1/20.2 MB 4.3 MB/s eta 0:00:03\n",
      "   ------------------ --------------------- 9.2/20.2 MB 4.3 MB/s eta 0:00:03\n",
      "   -------------------- ------------------- 10.5/20.2 MB 4.4 MB/s eta 0:00:03\n",
      "   ----------------------- ---------------- 11.8/20.2 MB 4.5 MB/s eta 0:00:02\n",
      "   ------------------------ --------------- 12.6/20.2 MB 4.5 MB/s eta 0:00:02\n",
      "   --------------------------- ------------ 13.9/20.2 MB 4.5 MB/s eta 0:00:02\n",
      "   ----------------------------- ---------- 14.9/20.2 MB 4.5 MB/s eta 0:00:02\n",
      "   ------------------------------- -------- 16.0/20.2 MB 4.5 MB/s eta 0:00:01\n",
      "   ---------------------------------- ----- 17.3/20.2 MB 4.6 MB/s eta 0:00:01\n",
      "   ------------------------------------ --- 18.6/20.2 MB 4.5 MB/s eta 0:00:01\n",
      "   -------------------------------------- - 19.4/20.2 MB 4.5 MB/s eta 0:00:01\n",
      "   ---------------------------------------  19.9/20.2 MB 4.4 MB/s eta 0:00:01\n",
      "   ---------------------------------------- 20.2/20.2 MB 4.2 MB/s eta 0:00:00\n",
      "Downloading click-8.1.8-py3-none-any.whl (98 kB)\n",
      "Downloading docker_pycreds-0.4.0-py2.py3-none-any.whl (9.0 kB)\n",
      "Downloading GitPython-3.1.44-py3-none-any.whl (207 kB)\n",
      "Downloading sentry_sdk-2.24.1-py2.py3-none-any.whl (336 kB)\n",
      "Downloading setproctitle-1.3.5-cp312-cp312-win_amd64.whl (12 kB)\n",
      "Downloading gitdb-4.0.12-py3-none-any.whl (62 kB)\n",
      "Downloading smmap-5.0.2-py3-none-any.whl (24 kB)\n",
      "Installing collected packages: smmap, setproctitle, sentry-sdk, docker-pycreds, click, gitdb, gitpython, wandb\n",
      "Successfully installed click-8.1.8 docker-pycreds-0.4.0 gitdb-4.0.12 gitpython-3.1.44 sentry-sdk-2.24.1 setproctitle-1.3.5 smmap-5.0.2 wandb-0.19.8\n"
     ]
    }
   ],
   "source": [
    "!pip install -U wandb"
   ]
  },
  {
   "cell_type": "code",
   "execution_count": 4,
   "metadata": {},
   "outputs": [
    {
     "data": {
      "text/plain": [
       "True"
      ]
     },
     "execution_count": 4,
     "metadata": {},
     "output_type": "execute_result"
    }
   ],
   "source": [
    "import wandb\n",
    "from wandb.integration.ultralytics import add_wandb_callback\n",
    "\n",
    "from ultralytics import YOLO\n",
    "\n",
    "# Add wandb callback\n",
    "wandb.login()"
   ]
  },
  {
   "cell_type": "code",
   "execution_count": null,
   "metadata": {},
   "outputs": [],
   "source": [
    "import wandb\n",
    "from ultralytics import YOLO\n",
    "\n",
    "wandb.init(project=\"ultralytics\", job_type=\"training\")\n",
    "\n",
    "model = YOLO(\"./training/last.pt\")\n",
    "\n",
    "def log_predictions_to_wandb(model, image_paths, save_dir=\"./output\"):\n",
    "    results = model(image_paths, save=True, save_dir=save_dir)\n",
    "    # Log the results to wandb\n",
    "    for img_path in image_paths:\n",
    "        wandb.log({\"Predicted Image\": wandb.Image(img_path)})\n",
    "        # Optionally log the original image as well\n",
    "        wandb.log({\"Original Image\": wandb.Image(img_path)})\n",
    "image_paths = [\"./result1.jpg\", \"./result2.jpg\"]\n",
    "log_predictions_to_wandb(model, image_paths)"
   ]
  },
  {
   "cell_type": "code",
   "execution_count": null,
   "metadata": {},
   "outputs": [],
   "source": [
    "wandb.config.update({\"batch_size\": 16, \"dropout\": 0.1, \"accuracy\": 0.87})\n"
   ]
  }
 ],
 "metadata": {
  "kernelspec": {
   "display_name": "ML_DMCourse",
   "language": "python",
   "name": "python3"
  },
  "language_info": {
   "codemirror_mode": {
    "name": "ipython",
    "version": 3
   },
   "file_extension": ".py",
   "mimetype": "text/x-python",
   "name": "python",
   "nbconvert_exporter": "python",
   "pygments_lexer": "ipython3",
   "version": "3.12.7"
  }
 },
 "nbformat": 4,
 "nbformat_minor": 2
}
